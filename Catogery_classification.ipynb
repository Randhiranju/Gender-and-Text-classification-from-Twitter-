{
 "cells": [
  {
   "cell_type": "code",
   "execution_count": 1,
   "id": "84a7d648",
   "metadata": {},
   "outputs": [],
   "source": [
    "#importing all the important libraries\n",
    "import nltk\n",
    "import pandas as pd\n",
    "import numpy as np\n",
    "import matplotlib.pyplot as plt\n",
    "import seaborn as sns\n",
    "from sklearn.metrics import confusion_matrix,classification_report"
   ]
  },
  {
   "cell_type": "code",
   "execution_count": 2,
   "id": "366c7ebd",
   "metadata": {},
   "outputs": [
    {
     "name": "stderr",
     "output_type": "stream",
     "text": [
      "[nltk_data] Downloading package stopwords to\n",
      "[nltk_data]     C:\\Users\\randh\\AppData\\Roaming\\nltk_data...\n",
      "[nltk_data]   Unzipping corpora\\stopwords.zip.\n",
      "[nltk_data] Downloading package punkt to\n",
      "[nltk_data]     C:\\Users\\randh\\AppData\\Roaming\\nltk_data...\n",
      "[nltk_data]   Unzipping tokenizers\\punkt.zip.\n"
     ]
    },
    {
     "data": {
      "text/plain": [
       "True"
      ]
     },
     "execution_count": 2,
     "metadata": {},
     "output_type": "execute_result"
    }
   ],
   "source": [
    "nltk.download('stopwords')\n",
    "nltk.download('punkt')"
   ]
  },
  {
   "cell_type": "code",
   "execution_count": 5,
   "id": "1854000e",
   "metadata": {},
   "outputs": [
    {
     "name": "stderr",
     "output_type": "stream",
     "text": [
      "[nltk_data] Downloading package wordnet to\n",
      "[nltk_data]     C:\\Users\\randh\\AppData\\Roaming\\nltk_data...\n",
      "[nltk_data]   Package wordnet is already up-to-date!\n"
     ]
    },
    {
     "data": {
      "text/plain": [
       "True"
      ]
     },
     "execution_count": 5,
     "metadata": {},
     "output_type": "execute_result"
    }
   ],
   "source": [
    "nltk.download('wordnet') #English corpous"
   ]
  },
  {
   "cell_type": "code",
   "execution_count": 6,
   "id": "c765ae6e",
   "metadata": {},
   "outputs": [
    {
     "name": "stderr",
     "output_type": "stream",
     "text": [
      "[nltk_data] Downloading package omw-1.4 to\n",
      "[nltk_data]     C:\\Users\\randh\\AppData\\Roaming\\nltk_data...\n",
      "[nltk_data]   Package omw-1.4 is already up-to-date!\n"
     ]
    },
    {
     "data": {
      "text/plain": [
       "True"
      ]
     },
     "execution_count": 6,
     "metadata": {},
     "output_type": "execute_result"
    }
   ],
   "source": [
    "nltk.download('omw-1.4')"
   ]
  },
  {
   "cell_type": "code",
   "execution_count": 8,
   "id": "df7c7066",
   "metadata": {},
   "outputs": [
    {
     "data": {
      "text/html": [
       "<div>\n",
       "<style scoped>\n",
       "    .dataframe tbody tr th:only-of-type {\n",
       "        vertical-align: middle;\n",
       "    }\n",
       "\n",
       "    .dataframe tbody tr th {\n",
       "        vertical-align: top;\n",
       "    }\n",
       "\n",
       "    .dataframe thead th {\n",
       "        text-align: right;\n",
       "    }\n",
       "</style>\n",
       "<table border=\"1\" class=\"dataframe\">\n",
       "  <thead>\n",
       "    <tr style=\"text-align: right;\">\n",
       "      <th></th>\n",
       "      <th>tag</th>\n",
       "      <th>content</th>\n",
       "    </tr>\n",
       "  </thead>\n",
       "  <tbody>\n",
       "    <tr>\n",
       "      <th>0</th>\n",
       "      <td>natural</td>\n",
       "      <td>b'Hey @jack, would be great if you could go an...</td>\n",
       "    </tr>\n",
       "    <tr>\n",
       "      <th>1</th>\n",
       "      <td>sports</td>\n",
       "      <td>b'RT @Mustafiz90: We are all set for first ODI...</td>\n",
       "    </tr>\n",
       "    <tr>\n",
       "      <th>2</th>\n",
       "      <td>politics</td>\n",
       "      <td>b'HPM #SheikhHasina has aimed to boost the eco...</td>\n",
       "    </tr>\n",
       "    <tr>\n",
       "      <th>3</th>\n",
       "      <td>crime</td>\n",
       "      <td>b'RT @Hammad_Azhar: @am_nawazish The duty stru...</td>\n",
       "    </tr>\n",
       "    <tr>\n",
       "      <th>4</th>\n",
       "      <td>sports</td>\n",
       "      <td>b'#AUSvIND #AUSvsIND #AusvIndia #ChhodnaMat \\n...</td>\n",
       "    </tr>\n",
       "  </tbody>\n",
       "</table>\n",
       "</div>"
      ],
      "text/plain": [
       "        tag                                            content\n",
       "0   natural  b'Hey @jack, would be great if you could go an...\n",
       "1    sports  b'RT @Mustafiz90: We are all set for first ODI...\n",
       "2  politics  b'HPM #SheikhHasina has aimed to boost the eco...\n",
       "3     crime  b'RT @Hammad_Azhar: @am_nawazish The duty stru...\n",
       "4    sports  b'#AUSvIND #AUSvsIND #AusvIndia #ChhodnaMat \\n..."
      ]
     },
     "execution_count": 8,
     "metadata": {},
     "output_type": "execute_result"
    }
   ],
   "source": [
    "#reading the data from the csv files and checking whether the data is loaded or not\n",
    "data0=pd.read_csv(\"D:\\\\D DRIVE BACKUP\\\\Semester 6\\\\NLP\\\\Project\\\\Twitter_text_class.csv\")\n",
    "data0.head()"
   ]
  },
  {
   "cell_type": "code",
   "execution_count": 9,
   "id": "d8dbe32e",
   "metadata": {},
   "outputs": [
    {
     "data": {
      "text/plain": [
       "tag        0\n",
       "content    0\n",
       "dtype: int64"
      ]
     },
     "execution_count": 9,
     "metadata": {},
     "output_type": "execute_result"
    }
   ],
   "source": [
    "#checking whether the null value is present or not\n",
    "data0.isnull().sum()"
   ]
  },
  {
   "cell_type": "code",
   "execution_count": 10,
   "id": "0a519959",
   "metadata": {},
   "outputs": [
    {
     "data": {
      "text/html": [
       "<div>\n",
       "<style scoped>\n",
       "    .dataframe tbody tr th:only-of-type {\n",
       "        vertical-align: middle;\n",
       "    }\n",
       "\n",
       "    .dataframe tbody tr th {\n",
       "        vertical-align: top;\n",
       "    }\n",
       "\n",
       "    .dataframe thead th {\n",
       "        text-align: right;\n",
       "    }\n",
       "</style>\n",
       "<table border=\"1\" class=\"dataframe\">\n",
       "  <thead>\n",
       "    <tr style=\"text-align: right;\">\n",
       "      <th></th>\n",
       "      <th>tag</th>\n",
       "      <th>content</th>\n",
       "    </tr>\n",
       "  </thead>\n",
       "  <tbody>\n",
       "    <tr>\n",
       "      <th>0</th>\n",
       "      <td>natural</td>\n",
       "      <td>b'Hey @jack, would be great if you could go an...</td>\n",
       "    </tr>\n",
       "    <tr>\n",
       "      <th>1</th>\n",
       "      <td>sports</td>\n",
       "      <td>b'RT @Mustafiz90: We are all set for first ODI...</td>\n",
       "    </tr>\n",
       "    <tr>\n",
       "      <th>2</th>\n",
       "      <td>politics</td>\n",
       "      <td>b'HPM #SheikhHasina has aimed to boost the eco...</td>\n",
       "    </tr>\n",
       "    <tr>\n",
       "      <th>3</th>\n",
       "      <td>crime</td>\n",
       "      <td>b'RT @Hammad_Azhar: @am_nawazish The duty stru...</td>\n",
       "    </tr>\n",
       "    <tr>\n",
       "      <th>4</th>\n",
       "      <td>sports</td>\n",
       "      <td>b'#AUSvIND #AUSvsIND #AusvIndia #ChhodnaMat \\n...</td>\n",
       "    </tr>\n",
       "    <tr>\n",
       "      <th>...</th>\n",
       "      <td>...</td>\n",
       "      <td>...</td>\n",
       "    </tr>\n",
       "    <tr>\n",
       "      <th>598</th>\n",
       "      <td>sports</td>\n",
       "      <td>b'@euniqueusername @HOUNGOUNGAGNE oh damm more...</td>\n",
       "    </tr>\n",
       "    <tr>\n",
       "      <th>599</th>\n",
       "      <td>natural</td>\n",
       "      <td>b'A China-Bangladesh joint venture is going to...</td>\n",
       "    </tr>\n",
       "    <tr>\n",
       "      <th>600</th>\n",
       "      <td>politics</td>\n",
       "      <td>b'JP refuses to quit in 145 seats Aggrieved at...</td>\n",
       "    </tr>\n",
       "    <tr>\n",
       "      <th>601</th>\n",
       "      <td>natural</td>\n",
       "      <td>b'#CKD is more common in people of south Asian...</td>\n",
       "    </tr>\n",
       "    <tr>\n",
       "      <th>602</th>\n",
       "      <td>politics</td>\n",
       "      <td>b'One killed, over 200 injured in Tabligh Jama...</td>\n",
       "    </tr>\n",
       "  </tbody>\n",
       "</table>\n",
       "<p>603 rows × 2 columns</p>\n",
       "</div>"
      ],
      "text/plain": [
       "          tag                                            content\n",
       "0     natural  b'Hey @jack, would be great if you could go an...\n",
       "1      sports  b'RT @Mustafiz90: We are all set for first ODI...\n",
       "2    politics  b'HPM #SheikhHasina has aimed to boost the eco...\n",
       "3       crime  b'RT @Hammad_Azhar: @am_nawazish The duty stru...\n",
       "4      sports  b'#AUSvIND #AUSvsIND #AusvIndia #ChhodnaMat \\n...\n",
       "..        ...                                                ...\n",
       "598    sports  b'@euniqueusername @HOUNGOUNGAGNE oh damm more...\n",
       "599   natural  b'A China-Bangladesh joint venture is going to...\n",
       "600  politics  b'JP refuses to quit in 145 seats Aggrieved at...\n",
       "601   natural  b'#CKD is more common in people of south Asian...\n",
       "602  politics  b'One killed, over 200 injured in Tabligh Jama...\n",
       "\n",
       "[603 rows x 2 columns]"
      ]
     },
     "execution_count": 10,
     "metadata": {},
     "output_type": "execute_result"
    }
   ],
   "source": [
    "#remove it if it is present with the help of dropna\n",
    "data0.dropna()"
   ]
  },
  {
   "cell_type": "code",
   "execution_count": 11,
   "id": "04dbf708",
   "metadata": {},
   "outputs": [
    {
     "data": {
      "text/plain": [
       "tag        object\n",
       "content    object\n",
       "dtype: object"
      ]
     },
     "execution_count": 11,
     "metadata": {},
     "output_type": "execute_result"
    }
   ],
   "source": [
    "#checking the data type of all the columns\n",
    "data0.dtypes"
   ]
  },
  {
   "cell_type": "code",
   "execution_count": 12,
   "id": "9705f376",
   "metadata": {},
   "outputs": [
    {
     "data": {
      "text/html": [
       "<div>\n",
       "<style scoped>\n",
       "    .dataframe tbody tr th:only-of-type {\n",
       "        vertical-align: middle;\n",
       "    }\n",
       "\n",
       "    .dataframe tbody tr th {\n",
       "        vertical-align: top;\n",
       "    }\n",
       "\n",
       "    .dataframe thead th {\n",
       "        text-align: right;\n",
       "    }\n",
       "</style>\n",
       "<table border=\"1\" class=\"dataframe\">\n",
       "  <thead>\n",
       "    <tr style=\"text-align: right;\">\n",
       "      <th></th>\n",
       "      <th>tag</th>\n",
       "      <th>content</th>\n",
       "    </tr>\n",
       "  </thead>\n",
       "  <tbody>\n",
       "    <tr>\n",
       "      <th>count</th>\n",
       "      <td>603</td>\n",
       "      <td>603</td>\n",
       "    </tr>\n",
       "    <tr>\n",
       "      <th>unique</th>\n",
       "      <td>4</td>\n",
       "      <td>390</td>\n",
       "    </tr>\n",
       "    <tr>\n",
       "      <th>top</th>\n",
       "      <td>sports</td>\n",
       "      <td>b'RT @Refugees: \\xe2\\x80\\x9cThey were from our...</td>\n",
       "    </tr>\n",
       "    <tr>\n",
       "      <th>freq</th>\n",
       "      <td>234</td>\n",
       "      <td>28</td>\n",
       "    </tr>\n",
       "  </tbody>\n",
       "</table>\n",
       "</div>"
      ],
      "text/plain": [
       "           tag                                            content\n",
       "count      603                                                603\n",
       "unique       4                                                390\n",
       "top     sports  b'RT @Refugees: \\xe2\\x80\\x9cThey were from our...\n",
       "freq       234                                                 28"
      ]
     },
     "execution_count": 12,
     "metadata": {},
     "output_type": "execute_result"
    }
   ],
   "source": [
    "#get the frqeuency top unique with the help of describe() command\n",
    "data0.describe()"
   ]
  },
  {
   "cell_type": "code",
   "execution_count": 13,
   "id": "708aa4be",
   "metadata": {},
   "outputs": [
    {
     "name": "stdout",
     "output_type": "stream",
     "text": [
      "['natural' 'sports' 'politics' 'crime']\n",
      "                                               content       tag\n",
      "0    b'Hey @jack, would be great if you could go an...   natural\n",
      "1    b'RT @Mustafiz90: We are all set for first ODI...    sports\n",
      "2    b'HPM #SheikhHasina has aimed to boost the eco...  politics\n",
      "3    b'RT @Hammad_Azhar: @am_nawazish The duty stru...     crime\n",
      "4    b'#AUSvIND #AUSvsIND #AusvIndia #ChhodnaMat \\n...    sports\n",
      "..                                                 ...       ...\n",
      "598  b'@euniqueusername @HOUNGOUNGAGNE oh damm more...    sports\n",
      "599  b'A China-Bangladesh joint venture is going to...   natural\n",
      "600  b'JP refuses to quit in 145 seats Aggrieved at...  politics\n",
      "601  b'#CKD is more common in people of south Asian...   natural\n",
      "602  b'One killed, over 200 injured in Tabligh Jama...  politics\n",
      "\n",
      "[603 rows x 2 columns]\n"
     ]
    }
   ],
   "source": [
    "#choose the column features\n",
    "df=data0[[\"content\",\"tag\"]]\n",
    "df = df.loc[df[\"tag\"].isin([\"natural\", \"sports\", \"politics\", \"crime\"])]\n",
    "print(df['tag'].unique())\n",
    "print(df)"
   ]
  },
  {
   "cell_type": "code",
   "execution_count": 14,
   "id": "6facd372",
   "metadata": {},
   "outputs": [
    {
     "name": "stdout",
     "output_type": "stream",
     "text": [
      "0      0\n",
      "1      1\n",
      "2      2\n",
      "3      3\n",
      "4      1\n",
      "      ..\n",
      "598    1\n",
      "599    0\n",
      "600    2\n",
      "601    0\n",
      "602    2\n",
      "Name: tag, Length: 603, dtype: int32\n"
     ]
    }
   ],
   "source": [
    "#changing the tag which is in the form of the string to decimal number so that it can fit in the models during training\n",
    "def categorize():\n",
    "    tag_list=[]\n",
    "    for i in df[\"tag\"]:\n",
    "        if(i==\"natural\"):\n",
    "            tag_list.append(0)\n",
    "        \n",
    "        elif(i==\"sports\"):\n",
    "            tag_list.append(1)\n",
    "            \n",
    "        elif(i==\"politics\"):\n",
    "            tag_list.append(2)\n",
    "        \n",
    "        elif(i==\"crime\"):\n",
    "            tag_list.append(3)\n",
    "    return np.array(tag_list)\n",
    "    \n",
    "tag_list=categorize()\n",
    "df[\"tag\"]=categorize()\n",
    "print(df[\"tag\"])"
   ]
  },
  {
   "cell_type": "code",
   "execution_count": 15,
   "id": "b9d3ee89",
   "metadata": {},
   "outputs": [],
   "source": [
    "#importing all the important libraries related to the NLP and Sklearn\n",
    "from sklearn.ensemble import RandomForestClassifier\n",
    "from sklearn.linear_model import LogisticRegression\n",
    "import string\n",
    "from nltk.stem import PorterStemmer\n",
    "from nltk import word_tokenize\n",
    "from nltk.corpus import stopwords\n",
    "import nltk\n",
    "import string\n",
    "from sklearn.pipeline import Pipeline\n",
    "from sklearn.metrics import classification_report,confusion_matrix\n",
    "from sklearn.feature_extraction.text import TfidfVectorizer, CountVectorizer"
   ]
  },
  {
   "cell_type": "code",
   "execution_count": 16,
   "id": "6b29acd4",
   "metadata": {},
   "outputs": [],
   "source": [
    "#splitting the datasets into the training and testing of the datasets\n",
    "from sklearn.model_selection import train_test_split\n",
    "X=df[\"content\"]\n",
    "y=df[\"tag\"]\n",
    "X_train,X_test,y_train,y_test=train_test_split(X,y,test_size=0.20)"
   ]
  },
  {
   "cell_type": "code",
   "execution_count": 17,
   "id": "0277812f",
   "metadata": {},
   "outputs": [],
   "source": [
    "def clean_text(text):\n",
    "    # Remove punctuation and special characters\n",
    "    text = text.translate(str.maketrans('', '', string.punctuation + '\\n'))\n",
    "    # Convert to lowercase\n",
    "    text = text.lower()\n",
    "    # Remove stopwords\n",
    "    stop_words = set(stopwords.words('english'))\n",
    "    tokens = word_tokenize(text)\n",
    "    tokens = [token for token in tokens if not token in stop_words]\n",
    "    # Lemmatize the tokens\n",
    "    lemmatizer = nltk.stem.WordNetLemmatizer()\n",
    "    tokens = [lemmatizer.lemmatize(token) for token in tokens]\n",
    "    return ' '.join(tokens)"
   ]
  },
  {
   "cell_type": "code",
   "execution_count": 18,
   "id": "515bf47c",
   "metadata": {},
   "outputs": [],
   "source": [
    "# Clean the text data\n",
    "df['new_content'] = df['content'].apply(clean_text)\n",
    "\n",
    "# Vectorize the text data using TF-IDF\n",
    "vectorizer = TfidfVectorizer()\n",
    "X = vectorizer.fit_transform(df['new_content'])\n",
    "y = df['tag']"
   ]
  },
  {
   "cell_type": "code",
   "execution_count": 19,
   "id": "ba5cec32",
   "metadata": {},
   "outputs": [],
   "source": [
    "# Split the data into training and testing sets\n",
    "X_train, X_test, y_train, y_test = train_test_split(X, y, test_size=0.2, random_state=42)\n",
    "\n",
    "# Initialize and fit the random forest classifier\n",
    "clf = RandomForestClassifier(n_estimators=100, random_state=42)\n",
    "clf.fit(X_train, y_train)\n",
    "\n",
    "# Predict on the testing set\n",
    "y_pred = clf.predict(X_test)"
   ]
  },
  {
   "cell_type": "code",
   "execution_count": 20,
   "id": "295f97e3",
   "metadata": {},
   "outputs": [
    {
     "name": "stdout",
     "output_type": "stream",
     "text": [
      "  (0, 65)\t0.3196135990636079\n",
      "  (0, 458)\t0.08718440752465986\n",
      "  (0, 636)\t0.23788598059202223\n",
      "  (0, 765)\t0.3010532654379389\n",
      "  (0, 887)\t0.27612106070464193\n",
      "  (0, 1573)\t0.3095564574841775\n",
      "  (0, 1584)\t0.3196135990636079\n",
      "  (0, 1625)\t0.3196135990636079\n",
      "  (0, 1734)\t0.3095564574841775\n",
      "  (0, 2030)\t0.3095564574841775\n",
      "  (0, 2042)\t0.2813785189509882\n",
      "  (0, 2155)\t0.3095564574841775\n",
      "  (1, 264)\t0.09135125636610628\n",
      "  (1, 349)\t0.2865954205386734\n",
      "  (1, 350)\t0.30663494688361653\n",
      "  (1, 425)\t0.30663494688361653\n",
      "  (1, 458)\t0.08880085101058215\n",
      "  (1, 1443)\t0.29251502567248533\n",
      "  (1, 1453)\t0.30663494688361653\n",
      "  (1, 1471)\t0.30663494688361653\n",
      "  (1, 1501)\t0.29913258119785724\n",
      "  (1, 1638)\t0.15502273805977335\n",
      "  (1, 1938)\t0.21783847413960644\n",
      "  (1, 1965)\t0.30663494688361653\n",
      "  (1, 2260)\t0.29251502567248533\n",
      "  :\t:\n",
      "  (119, 50)\t0.23983361054380897\n",
      "  (119, 405)\t0.3308582904908602\n",
      "  (119, 666)\t0.23683417369353085\n",
      "  (119, 783)\t0.27320766722432616\n",
      "  (119, 963)\t0.27320766722432616\n",
      "  (119, 1108)\t0.352135420226599\n",
      "  (119, 1738)\t0.2676787836882417\n",
      "  (119, 1824)\t0.2676787836882417\n",
      "  (119, 1825)\t0.27320766722432616\n",
      "  (119, 1858)\t0.27320766722432616\n",
      "  (119, 2272)\t0.304052277219037\n",
      "  (119, 2282)\t0.23683417369353085\n",
      "  (119, 2285)\t0.25002211413049047\n",
      "  (120, 168)\t0.30236078966826674\n",
      "  (120, 352)\t0.30236078966826674\n",
      "  (120, 458)\t0.07121600225812777\n",
      "  (120, 576)\t0.30236078966826674\n",
      "  (120, 594)\t0.30236078966826674\n",
      "  (120, 849)\t0.30236078966826674\n",
      "  (120, 1279)\t0.30236078966826674\n",
      "  (120, 1421)\t0.30236078966826674\n",
      "  (120, 1423)\t0.30236078966826674\n",
      "  (120, 1944)\t0.30236078966826674\n",
      "  (120, 1991)\t0.2840911996774835\n",
      "  (120, 2098)\t0.30236078966826674\n",
      "[2 1 0 0 2 1 2 1 0 0 3 2 1 2 1 2 0 0 0 1 2 0 0 0 0 2 2 1 1 0 1 0 2 1 0 0 0\n",
      " 0 1 1 0 2 1 3 0 0 1 0 3 1 1 0 2 0 3 0 1 2 1 1 3 1 0 1 0 0 2 1 0 1 0 2 0 2\n",
      " 1 0 1 0 2 1 1 2 0 2 0 2 0 2 2 0 1 1 0 1 0 1 2 3 0 0 1 0 1 0 0 0 0 0 0 0 1\n",
      " 1 3 0 1 0 1 0 0 1 0]\n"
     ]
    }
   ],
   "source": [
    "print(X_test)\n",
    "print(y_pred)"
   ]
  },
  {
   "cell_type": "code",
   "execution_count": 21,
   "id": "42c5f131",
   "metadata": {},
   "outputs": [
    {
     "name": "stdout",
     "output_type": "stream",
     "text": [
      "Accuracy of the model is : 0.8760330578512396\n"
     ]
    }
   ],
   "source": [
    "from sklearn.metrics import accuracy_score, precision_score, recall_score, f1_score\n",
    "print('Accuracy of the model is :', accuracy_score(y_test, y_pred))"
   ]
  },
  {
   "cell_type": "code",
   "execution_count": 22,
   "id": "d6042c77",
   "metadata": {},
   "outputs": [],
   "source": [
    "import joblib"
   ]
  },
  {
   "cell_type": "code",
   "execution_count": 23,
   "id": "dbe878fd",
   "metadata": {},
   "outputs": [
    {
     "data": {
      "text/plain": [
       "['topic.pkl']"
      ]
     },
     "execution_count": 23,
     "metadata": {},
     "output_type": "execute_result"
    }
   ],
   "source": [
    "joblib.dump(clf,'topic.pkl')"
   ]
  },
  {
   "cell_type": "code",
   "execution_count": 24,
   "id": "f99aa329",
   "metadata": {},
   "outputs": [],
   "source": [
    "model=joblib.load('topic.pkl')"
   ]
  },
  {
   "cell_type": "code",
   "execution_count": 25,
   "id": "8f0f74b5",
   "metadata": {},
   "outputs": [
    {
     "name": "stdout",
     "output_type": "stream",
     "text": [
      "This tweet has been related to the politics news\n"
     ]
    }
   ],
   "source": [
    "text=\"6b RT @trtworld: Bangladesh opposition party says the government has arrested hundreds of its supporters since election dates were announced h\\xe2\\x80\\xa6\"\n",
    "preprocessed_test_input = clean_text(text)\n",
    "test_vector = vectorizer.transform([preprocessed_test_input])\n",
    "prediction=model.predict(test_vector)\n",
    "\n",
    "#now print the label of the text\n",
    "if(prediction[0]==0):\n",
    "    print(\"This tweet has been related to the natural news\")\n",
    "elif(prediction[0]==1):\n",
    "    print(\"This tweet has been related to the Sports news\")\n",
    "elif(prediction[0]==2):\n",
    "    print(\"This tweet has been related to the politics news\")\n",
    "else:\n",
    "    print(\"This tweet has been related to the crime news\")"
   ]
  },
  {
   "cell_type": "code",
   "execution_count": 26,
   "id": "06138ed7",
   "metadata": {},
   "outputs": [
    {
     "name": "stdout",
     "output_type": "stream",
     "text": [
      "['6b', 'RT', '@trtworld:', 'Bangladesh', 'opposition', 'party', 'says', 'the', 'government', 'has', 'arrested', 'hundreds', 'of', 'its', 'supporters', 'since', 'election', 'dates', 'were', 'announced', 'hâ\\x80¦']\n"
     ]
    },
    {
     "data": {
      "image/png": "[encoded data removed]",
      "text/plain": [
       "<Figure size 432x432 with 1 Axes>"
      ]
     },
     "metadata": {
      "needs_background": "light"
     },
     "output_type": "display_data"
    }
   ],
   "source": [
    "#import the word cloud and the and plot the word  cloud\n",
    "from wordcloud import WordCloud\n",
    "\n",
    "#first split the text using the split methods\n",
    "result_words=text.split()\n",
    "print(result_words)\n",
    "\n",
    "final_text=' '.join(result_words)\n",
    "\n",
    "wordcloud = WordCloud(width=800 ,height=800 ,background_color='pink').generate(final_text)\n",
    "\n",
    "#plot the word cloud\n",
    "plt.figure(figsize=(6,6))\n",
    "plt.imshow(wordcloud)\n",
    "plt.axis('off')\n",
    "plt.show()"
   ]
  },
  {
   "cell_type": "code",
   "execution_count": null,
   "id": "decbc57c",
   "metadata": {},
   "outputs": [],
   "source": []
  }
 ],
 "metadata": {
  "kernelspec": {
   "display_name": "Python 3 (ipykernel)",
   "language": "python",
   "name": "python3"
  },
  "language_info": {
   "codemirror_mode": {
    "name": "ipython",
    "version": 3
   },
   "file_extension": ".py",
   "mimetype": "text/x-python",
   "name": "python",
   "nbconvert_exporter": "python",
   "pygments_lexer": "ipython3",
   "version": "3.9.7"
  }
 },
 "nbformat": 4,
 "nbformat_minor": 5
}
